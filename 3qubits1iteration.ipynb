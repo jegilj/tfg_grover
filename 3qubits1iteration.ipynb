{
 "cells": [
  {
   "cell_type": "code",
   "execution_count": 1,
   "id": "331d27a2-94fd-46e2-8ead-563b63c3cfff",
   "metadata": {},
   "outputs": [],
   "source": [
    "import numpy as np\n",
    "# Importing standard Qiskit libraries\n",
    "from qiskit import *\n",
    "from qiskit import QuantumCircuit, transpile, Aer, IBMQ\n",
    "from qiskit.tools.jupyter import *\n",
    "from qiskit.visualization import *\n",
    "from ibm_quantum_widgets import *\n",
    "\n",
    "# Loading your IBM Quantum account(s)\n",
    "provider = IBMQ.load_account()"
   ]
  },
  {
   "cell_type": "code",
   "execution_count": 2,
   "id": "62ec7711-c08d-4c39-9f9e-8e667e29055b",
   "metadata": {},
   "outputs": [
    {
     "name": "stderr",
     "output_type": "stream",
     "text": [
      "<frozen importlib._bootstrap>:219: RuntimeWarning: scipy._lib.messagestream.MessageStream size changed, may indicate binary incompatibility. Expected 56 from C header, got 64 from PyObject\n"
     ]
    },
    {
     "data": {
      "image/png": "[encoded data removed]",
      "text/plain": [
       "<Figure size 206.997x204.68 with 1 Axes>"
      ]
     },
     "execution_count": 2,
     "metadata": {},
     "output_type": "execute_result"
    }
   ],
   "source": [
    "backend=Aer.get_backend('statevector_simulator')\n",
    "oracle = QuantumCircuit(3,name='oracle')\n",
    "\n",
    "oracle.cz(2,0)\n",
    "oracle.cz(1,0)\n",
    "\n",
    "oracle.draw()"
   ]
  },
  {
   "cell_type": "code",
   "execution_count": 3,
   "id": "5cab6412-578a-439a-912e-2ca500d59916",
   "metadata": {},
   "outputs": [
    {
     "data": {
      "text/plain": [
       "array([0.35+0.j, 0.35+0.j, 0.35+0.j, 0.35+0.j, 0.35+0.j, 0.35+0.j,\n",
       "       0.35+0.j, 0.35+0.j])"
      ]
     },
     "execution_count": 3,
     "metadata": {},
     "output_type": "execute_result"
    }
   ],
   "source": [
    "grover=QuantumCircuit(3,3) #Creamos un circuito de 2 qubits\n",
    "grover.h(range(3)) #INICIALIZACIÓN DE ESTADOS: Puertas hadamard en los dos qubits\n",
    "\n",
    "job = execute(grover,backend) #Ejecutamos el circuito y guardamos el resultado de la ejecución\n",
    "result= job.result()\n",
    "sv = result.get_statevector() #Obtenemos el vector de estados\n",
    "np.around(sv,2) #Redondeamos"
   ]
  },
  {
   "cell_type": "code",
   "execution_count": 4,
   "id": "0c59d9ac-2131-4500-96ae-39a786a50335",
   "metadata": {},
   "outputs": [
    {
     "data": {
      "image/png": "[encoded data removed]",
      "text/plain": [
       "<Figure size 267.197x264.88 with 1 Axes>"
      ]
     },
     "execution_count": 4,
     "metadata": {},
     "output_type": "execute_result"
    }
   ],
   "source": [
    "oracle = QuantumCircuit(3,name='oracle')\n",
    "\n",
    "oracle.cz(2,0) #Puerta Controlled-Z con control en el tercer qubit y objetivo en el primero\n",
    "oracle.cz(1,0) #Puerta Controlled-Z con control en el segundo qubit y objetivo en el primero\n",
    "grover.append(oracle,range(3))\n",
    "\n",
    "grover.draw()"
   ]
  },
  {
   "cell_type": "code",
   "execution_count": 5,
   "id": "1a5341da-a5a1-4a28-a9dc-4bee84dc5f7f",
   "metadata": {},
   "outputs": [
    {
     "data": {
      "text/plain": [
       "array([ 0.35+0.j,  0.35+0.j,  0.35+0.j, -0.35+0.j,  0.35+0.j, -0.35+0.j,\n",
       "        0.35+0.j,  0.35-0.j])"
      ]
     },
     "execution_count": 5,
     "metadata": {},
     "output_type": "execute_result"
    }
   ],
   "source": [
    "job = execute(grover,backend)\n",
    "result= job.result()\n",
    "sv = result.get_statevector()\n",
    "np.around(sv,2)"
   ]
  },
  {
   "cell_type": "markdown",
   "id": "569a2ffb-83c4-4fc3-8c4b-d830658a7698",
   "metadata": {},
   "source": [
    "OPERADOR DE GROVER SEGÚN NIELSENG & CHUANG"
   ]
  },
  {
   "cell_type": "code",
   "execution_count": 6,
   "id": "cdec20fd-3789-42af-a91b-fca7b50c7e0a",
   "metadata": {},
   "outputs": [
    {
     "data": {
      "image/png": "[encoded data removed]",
      "text/plain": [
       "<Figure size 507.997x204.68 with 1 Axes>"
      ]
     },
     "execution_count": 6,
     "metadata": {},
     "output_type": "execute_result"
    }
   ],
   "source": [
    "diffusion=QuantumCircuit(3,name='diffusion')\n",
    "diffusion.h(range(3))    #Puertas hadamard en los dos qubits (desde el qubit 0 hasta el 2)\n",
    "diffusion.x(range(3))    #Puertas X en los dos qubits (desde el qubit 0 hasta el 2)\n",
    "diffusion.h(2)           #Puerta hadamard en el qubit 2\n",
    "diffusion.mct([0,1],2,0) #Puerta CNOT con control en los qubits 0 y 1 y objetivo en el qubit 2\n",
    "diffusion.i([0,1])       #Puerta identidad simplemente para mostrar las siguientes puertas\n",
    "                         #X y hadamard a la misma altura\n",
    "diffusion.h(2)\n",
    "diffusion.x(range(3))\n",
    "diffusion.h(range(3))\n",
    "diffusion.draw()         #Dibujamos el circuito"
   ]
  },
  {
   "cell_type": "code",
   "execution_count": 7,
   "id": "dbe50108-3020-4468-8480-69c4e04ed480",
   "metadata": {},
   "outputs": [
    {
     "data": {
      "image/png": "[encoded data removed]",
      "text/plain": [
       "<Figure size 568.197x264.88 with 1 Axes>"
      ]
     },
     "execution_count": 7,
     "metadata": {},
     "output_type": "execute_result"
    }
   ],
   "source": [
    "grover.append(diffusion,range(3))\n",
    "grover.measure(range(3),range(3))\n",
    "grover.draw()"
   ]
  },
  {
   "cell_type": "code",
   "execution_count": 8,
   "id": "0d605180-70e3-480f-84ad-14054b4b84ac",
   "metadata": {},
   "outputs": [
    {
     "data": {
      "text/plain": [
       "array([ 0.+0.j,  0.+0.j,  0.+0.j,  0.+0.j,  0.+0.j, -1.-0.j, -0.+0.j,\n",
       "        0.+0.j])"
      ]
     },
     "execution_count": 8,
     "metadata": {},
     "output_type": "execute_result"
    }
   ],
   "source": [
    "job = execute(grover,backend,shots=1000)#Ejecutamos el algoritmo 1000 veces\n",
    "result = job.result()\n",
    "sv = result.get_statevector() #Obtenemos el vector de estados\n",
    "np.around(sv,2)"
   ]
  },
  {
   "cell_type": "code",
   "execution_count": 9,
   "id": "d0a5642b-4ea9-402e-b46e-ac3747bd3074",
   "metadata": {
    "tags": []
   },
   "outputs": [
    {
     "data": {
      "text/plain": [
       "{'101': 503, '011': 497}"
      ]
     },
     "execution_count": 9,
     "metadata": {},
     "output_type": "execute_result"
    }
   ],
   "source": [
    "counts=result.get_counts()\n",
    "counts"
   ]
  },
  {
   "cell_type": "code",
   "execution_count": null,
   "id": "df32c136-4472-4862-bfeb-766a448a2d2f",
   "metadata": {},
   "outputs": [],
   "source": []
  },
  {
   "cell_type": "code",
   "execution_count": null,
   "id": "fe5116cc-708f-4c82-bde7-e6f46dc1a22f",
   "metadata": {},
   "outputs": [],
   "source": []
  }
 ],
 "metadata": {
  "kernelspec": {
   "display_name": "Python 3 (ipykernel)",
   "language": "python",
   "name": "python3"
  },
  "language_info": {
   "codemirror_mode": {
    "name": "ipython",
    "version": 3
   },
   "file_extension": ".py",
   "mimetype": "text/x-python",
   "name": "python",
   "nbconvert_exporter": "python",
   "pygments_lexer": "ipython3",
   "version": "3.8.13"
  },
  "widgets": {
   "application/vnd.jupyter.widget-state+json": {
    "state": {},
    "version_major": 2,
    "version_minor": 0
   }
  }
 },
 "nbformat": 4,
 "nbformat_minor": 5
}
